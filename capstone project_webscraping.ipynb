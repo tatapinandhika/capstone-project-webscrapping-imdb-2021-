{
 "cells": [
  {
   "cell_type": "markdown",
   "id": "0469d315",
   "metadata": {},
   "source": [
    "# NAME : ANAK AGUNG NGURAH TATA PINANDHIKA\n",
    "   ## EMAIL : agungtata89@gmail.com"
   ]
  },
  {
   "cell_type": "markdown",
   "id": "2c383e01",
   "metadata": {},
   "source": [
    "# Background\n",
    "Currently there are a lot of new films that we can watch easily because of the increasingly rapid development of the era. And with this convenience, many film industries are competing to make the latest films every year. And with so many new film titles on the market, as a data analyst, I try to help directors determine the criteria or correlation between the Metascore value and the popularity of a film, so that it can be used as a reference for future marketing and production techniques."
   ]
  },
  {
   "cell_type": "markdown",
   "id": "3ae208b8",
   "metadata": {},
   "source": [
    "## Importing library from requirement.txt"
   ]
  },
  {
   "cell_type": "code",
   "execution_count": 91,
   "id": "d2e0a293",
   "metadata": {},
   "outputs": [],
   "source": [
    "#importing required Libraries\n",
    "import pandas as pd   #to create dataframe\n",
    "import requests       #to send the request to the URL\n",
    "from bs4 import BeautifulSoup #to get the content in the form of HTML\n",
    "import numpy as np  # to count the values (in our case)"
   ]
  },
  {
   "cell_type": "markdown",
   "id": "0e58e0e9",
   "metadata": {},
   "source": [
    "## describe link you can scrapping\n",
    "\n",
    "- use requests and get \n",
    "- use 'html.parser'"
   ]
  },
  {
   "cell_type": "code",
   "execution_count": 92,
   "id": "46160280",
   "metadata": {},
   "outputs": [],
   "source": [
    "\n",
    "url = 'https://www.imdb.com/search/title/?release_date=2021-01-01,2021-12-31'\n",
    "\n",
    "response = requests.get(url)\n",
    "soup = BeautifulSoup(response.content, 'html.parser')"
   ]
  },
  {
   "cell_type": "markdown",
   "id": "25f98a08",
   "metadata": {},
   "source": [
    "To visualize what exactly you get from the `request.get`, we can use .content so ee what we exactly get, in here i slice it so it won't make our screen full of the html we get from the page. You can delete the slicing if you want to see what we fully get.\n",
    "\n",
    "here where we use the beautifulsoup. Beautiful soup class will result a beautifulsoup object. Beautiful Soup transforms a complex HTML document into a complex tree of Python objects. But you’ll only ever have to deal with about four kinds of objects: Tag, NavigableString, BeautifulSoup, and Comment. But at this module we will only use BeautifulSoup."
   ]
  },
  {
   "cell_type": "code",
   "execution_count": 93,
   "id": "03f314bf",
   "metadata": {},
   "outputs": [
    {
     "data": {
      "text/plain": [
       "<Response [200]>"
      ]
     },
     "execution_count": 93,
     "metadata": {},
     "output_type": "execute_result"
    }
   ],
   "source": [
    "response"
   ]
  },
  {
   "cell_type": "markdown",
   "id": "c857c02a",
   "metadata": {},
   "source": [
    "## create empy list for placed your list"
   ]
  },
  {
   "cell_type": "code",
   "execution_count": 94,
   "id": "31614e1f",
   "metadata": {},
   "outputs": [],
   "source": [
    "#creating an empty list,\n",
    "movie_title = []\n",
    "metascore = []\n",
    "rating = []\n",
    "votes = []"
   ]
  },
  {
   "cell_type": "markdown",
   "id": "140a0b21",
   "metadata": {},
   "source": [
    "## Define the key from the your website can be scrapping\n",
    "\n",
    "<img src='\\kelas data science\\capstone\\capstone web scrapping\\sources'>"
   ]
  },
  {
   "cell_type": "code",
   "execution_count": 95,
   "id": "0ba412ea",
   "metadata": {},
   "outputs": [],
   "source": [
    "data = soup.findAll('div', attrs= {'class': 'lister-item mode-advanced'})"
   ]
  },
  {
   "cell_type": "markdown",
   "id": "425250ee",
   "metadata": {},
   "source": [
    "From inspect element we know that we need to find the line table with class `lister-item mode-advanced`. We can use the find method at our beautifusoup object. Let's also call our object to see what we get."
   ]
  },
  {
   "cell_type": "markdown",
   "id": "f5390671",
   "metadata": {},
   "source": [
    "## let's scrapping\n",
    "define the location your data can be srapping, you can do it by click the right your cursor at the data you can get."
   ]
  },
  {
   "cell_type": "code",
   "execution_count": 96,
   "id": "7050cc12",
   "metadata": {},
   "outputs": [],
   "source": [
    "for store in data:\n",
    "    title = store.h3.a.text\n",
    "    movie_title.append(title)\n",
    "    \n",
    "    rate = store.find('div', class_ = 'inline-block ratings-imdb-rating').text.replace('\\n', '')\n",
    "    rating.append(rate)\n",
    "    \n",
    "    meta  = store.find('span', class_ = 'metascore').text.replace(' ', '') if store.find('span', class_ = 'metascore') else '0'\n",
    "    metascore.append(meta)\n",
    "    #since, gross and votes have same attributes, that's why we had created a common variable and then used indexing\n",
    "    value = store.find_all('span', attrs = {'name': 'nv'})\n",
    "    \n",
    "    vote = value[0].text.replace(',', '')\n",
    "    votes.append(vote)\n",
    "    "
   ]
  },
  {
   "cell_type": "markdown",
   "id": "8bb173bc",
   "metadata": {},
   "source": [
    "## creating dataframe"
   ]
  },
  {
   "cell_type": "code",
   "execution_count": 134,
   "id": "ee538ab4",
   "metadata": {},
   "outputs": [],
   "source": [
    "#creating a dataframe using pandas library\n",
    "movie = pd.DataFrame({'Title of movie': movie_title,'Movie Rating': rating, 'Metascore': metascore, 'votes':votes})"
   ]
  },
  {
   "cell_type": "markdown",
   "id": "b4ad387b",
   "metadata": {},
   "source": [
    "## wrangling and visualization\n",
    "\n",
    "- yang pertama saya membuat sebuah dataframe baru bernama 'favorit', yang berisikan top-7 dari data 'movie'\n",
    "- lalu langkah berikutnya adalah merubah type file, yaiut 'Movie Rating' menjadi float64, sedangkan 'Metascore' dan votes menjadi int64.\n",
    "- langkah berikutnya adalah membuat membuat dataframe baru bernama 'favorit1' yang merubah 'Title of movie' menjadi index, agar mudah saat dilakukan ploting\n",
    "- dan langkah terakhir adalah membuat floating, dengan mengambil data 'Metascore', dan di plot kedalam bar plot karena ingin melihat perbedaan nilai metascore dari ke-7 film paling popular tersebut"
   ]
  },
  {
   "cell_type": "code",
   "execution_count": 170,
   "id": "05fa9507",
   "metadata": {},
   "outputs": [
    {
     "data": {
      "text/html": [
       "<div>\n",
       "<style scoped>\n",
       "    .dataframe tbody tr th:only-of-type {\n",
       "        vertical-align: middle;\n",
       "    }\n",
       "\n",
       "    .dataframe tbody tr th {\n",
       "        vertical-align: top;\n",
       "    }\n",
       "\n",
       "    .dataframe thead th {\n",
       "        text-align: right;\n",
       "    }\n",
       "</style>\n",
       "<table border=\"1\" class=\"dataframe\">\n",
       "  <thead>\n",
       "    <tr style=\"text-align: right;\">\n",
       "      <th></th>\n",
       "      <th>Title of movie</th>\n",
       "      <th>Movie Rating</th>\n",
       "      <th>Metascore</th>\n",
       "      <th>votes</th>\n",
       "    </tr>\n",
       "  </thead>\n",
       "  <tbody>\n",
       "    <tr>\n",
       "      <th>0</th>\n",
       "      <td>CODA</td>\n",
       "      <td>8.1</td>\n",
       "      <td>74</td>\n",
       "      <td>89246</td>\n",
       "    </tr>\n",
       "    <tr>\n",
       "      <th>1</th>\n",
       "      <td>The Power of the Dog</td>\n",
       "      <td>6.9</td>\n",
       "      <td>89</td>\n",
       "      <td>148963</td>\n",
       "    </tr>\n",
       "    <tr>\n",
       "      <th>2</th>\n",
       "      <td>King Richard</td>\n",
       "      <td>7.5</td>\n",
       "      <td>76</td>\n",
       "      <td>79699</td>\n",
       "    </tr>\n",
       "    <tr>\n",
       "      <th>3</th>\n",
       "      <td>Dune: Part One</td>\n",
       "      <td>8.1</td>\n",
       "      <td>74</td>\n",
       "      <td>536611</td>\n",
       "    </tr>\n",
       "    <tr>\n",
       "      <th>4</th>\n",
       "      <td>The Eyes of Tammy Faye</td>\n",
       "      <td>6.6</td>\n",
       "      <td>55</td>\n",
       "      <td>23023</td>\n",
       "    </tr>\n",
       "    <tr>\n",
       "      <th>5</th>\n",
       "      <td>Spider-Man: No Way Home</td>\n",
       "      <td>8.5</td>\n",
       "      <td>71</td>\n",
       "      <td>575058</td>\n",
       "    </tr>\n",
       "    <tr>\n",
       "      <th>6</th>\n",
       "      <td>West Side Story</td>\n",
       "      <td>7.3</td>\n",
       "      <td>85</td>\n",
       "      <td>64255</td>\n",
       "    </tr>\n",
       "  </tbody>\n",
       "</table>\n",
       "</div>"
      ],
      "text/plain": [
       "            Title of movie  Movie Rating  Metascore   votes\n",
       "0                     CODA           8.1         74   89246\n",
       "1     The Power of the Dog           6.9         89  148963\n",
       "2             King Richard           7.5         76   79699\n",
       "3           Dune: Part One           8.1         74  536611\n",
       "4   The Eyes of Tammy Faye           6.6         55   23023\n",
       "5  Spider-Man: No Way Home           8.5         71  575058\n",
       "6          West Side Story           7.3         85   64255"
      ]
     },
     "execution_count": 170,
     "metadata": {},
     "output_type": "execute_result"
    }
   ],
   "source": [
    "favorit=movie.head(7)\n",
    "favorit"
   ]
  },
  {
   "cell_type": "code",
   "execution_count": 150,
   "id": "2af7ea9a",
   "metadata": {
    "scrolled": true
   },
   "outputs": [
    {
     "data": {
      "text/plain": [
       "Title of movie     object\n",
       "Movie Rating      float64\n",
       "Metascore           int64\n",
       "votes               int64\n",
       "dtype: object"
      ]
     },
     "execution_count": 150,
     "metadata": {},
     "output_type": "execute_result"
    }
   ],
   "source": [
    "movie.dtypes"
   ]
  },
  {
   "cell_type": "code",
   "execution_count": 147,
   "id": "4cdb555a",
   "metadata": {},
   "outputs": [],
   "source": [
    "movie['Movie Rating']=movie['Movie Rating'].astype('float64')"
   ]
  },
  {
   "cell_type": "code",
   "execution_count": 148,
   "id": "280e6391",
   "metadata": {},
   "outputs": [],
   "source": [
    "movie['Metascore']=movie['Metascore'].astype('int64')"
   ]
  },
  {
   "cell_type": "code",
   "execution_count": 149,
   "id": "0e7ac551",
   "metadata": {},
   "outputs": [],
   "source": [
    "movie['votes']=movie['votes'].astype('int64')"
   ]
  },
  {
   "cell_type": "code",
   "execution_count": 163,
   "id": "3c64c8ea",
   "metadata": {},
   "outputs": [],
   "source": [
    "favorit1=favorit.set_index('Title of movie', drop=True)"
   ]
  },
  {
   "cell_type": "code",
   "execution_count": 175,
   "id": "75c70950",
   "metadata": {},
   "outputs": [
    {
     "data": {
      "text/html": [
       "<div>\n",
       "<style scoped>\n",
       "    .dataframe tbody tr th:only-of-type {\n",
       "        vertical-align: middle;\n",
       "    }\n",
       "\n",
       "    .dataframe tbody tr th {\n",
       "        vertical-align: top;\n",
       "    }\n",
       "\n",
       "    .dataframe thead th {\n",
       "        text-align: right;\n",
       "    }\n",
       "</style>\n",
       "<table border=\"1\" class=\"dataframe\">\n",
       "  <thead>\n",
       "    <tr style=\"text-align: right;\">\n",
       "      <th></th>\n",
       "      <th>Movie Rating</th>\n",
       "      <th>Metascore</th>\n",
       "      <th>votes</th>\n",
       "    </tr>\n",
       "    <tr>\n",
       "      <th>Title of movie</th>\n",
       "      <th></th>\n",
       "      <th></th>\n",
       "      <th></th>\n",
       "    </tr>\n",
       "  </thead>\n",
       "  <tbody>\n",
       "    <tr>\n",
       "      <th>CODA</th>\n",
       "      <td>8.1</td>\n",
       "      <td>74</td>\n",
       "      <td>89246</td>\n",
       "    </tr>\n",
       "    <tr>\n",
       "      <th>The Power of the Dog</th>\n",
       "      <td>6.9</td>\n",
       "      <td>89</td>\n",
       "      <td>148963</td>\n",
       "    </tr>\n",
       "    <tr>\n",
       "      <th>King Richard</th>\n",
       "      <td>7.5</td>\n",
       "      <td>76</td>\n",
       "      <td>79699</td>\n",
       "    </tr>\n",
       "    <tr>\n",
       "      <th>Dune: Part One</th>\n",
       "      <td>8.1</td>\n",
       "      <td>74</td>\n",
       "      <td>536611</td>\n",
       "    </tr>\n",
       "    <tr>\n",
       "      <th>The Eyes of Tammy Faye</th>\n",
       "      <td>6.6</td>\n",
       "      <td>55</td>\n",
       "      <td>23023</td>\n",
       "    </tr>\n",
       "    <tr>\n",
       "      <th>Spider-Man: No Way Home</th>\n",
       "      <td>8.5</td>\n",
       "      <td>71</td>\n",
       "      <td>575058</td>\n",
       "    </tr>\n",
       "    <tr>\n",
       "      <th>West Side Story</th>\n",
       "      <td>7.3</td>\n",
       "      <td>85</td>\n",
       "      <td>64255</td>\n",
       "    </tr>\n",
       "  </tbody>\n",
       "</table>\n",
       "</div>"
      ],
      "text/plain": [
       "                         Movie Rating  Metascore   votes\n",
       "Title of movie                                          \n",
       "CODA                              8.1         74   89246\n",
       "The Power of the Dog              6.9         89  148963\n",
       "King Richard                      7.5         76   79699\n",
       "Dune: Part One                    8.1         74  536611\n",
       "The Eyes of Tammy Faye            6.6         55   23023\n",
       "Spider-Man: No Way Home           8.5         71  575058\n",
       "West Side Story                   7.3         85   64255"
      ]
     },
     "execution_count": 175,
     "metadata": {},
     "output_type": "execute_result"
    }
   ],
   "source": [
    "favorit1"
   ]
  },
  {
   "cell_type": "code",
   "execution_count": 174,
   "id": "d733944b",
   "metadata": {},
   "outputs": [
    {
     "data": {
      "text/plain": [
       "74.85714285714286"
      ]
     },
     "execution_count": 174,
     "metadata": {},
     "output_type": "execute_result"
    }
   ],
   "source": [
    "favorit1['Metascore'].mean()"
   ]
  },
  {
   "cell_type": "code",
   "execution_count": 166,
   "id": "974d3c61",
   "metadata": {
    "scrolled": false
   },
   "outputs": [
    {
     "data": {
      "text/plain": [
       "<AxesSubplot:title={'center':'seven most popular movie in 2021'}, xlabel='Title of movie', ylabel='Metascore'>"
      ]
     },
     "execution_count": 166,
     "metadata": {},
     "output_type": "execute_result"
    },
    {
     "data": {
      "image/png": "[encoded data removed]",
      "text/plain": [
       "<Figure size 432x288 with 1 Axes>"
      ]
     },
     "metadata": {
      "needs_background": "light"
     },
     "output_type": "display_data"
    }
   ],
   "source": [
    "favorit1['Metascore'].plot.bar(title = 'seven most popular movie in 2021',\n",
    "                xlabel = 'Title of movie',\n",
    "                ylabel = 'Metascore')"
   ]
  },
  {
   "cell_type": "markdown",
   "id": "9d47050b",
   "metadata": {},
   "source": [
    "# insight\n",
    "- Tidak terjadi korelasi yang positif diantara nilai metascore dari sebuah film terhadap sebuah popularitasnya.\n",
    "- nilai metascore yang terbesar dari ke-7 film tersebut adalah dimiliki oleh \"the power of the dog\"\n",
    "- nilai rata-rata dari metascore ke-7 film tersebut adalah 74,85, dimana nilai tersebut dibawah dari nilai metascore dari film berjudul 'CODA' yang menempati posisi pertama secara popularitas."
   ]
  }
 ],
 "metadata": {
  "kernelspec": {
   "display_name": "rhea_da",
   "language": "python",
   "name": "rhea_da"
  },
  "language_info": {
   "codemirror_mode": {
    "name": "ipython",
    "version": 3
   },
   "file_extension": ".py",
   "mimetype": "text/x-python",
   "name": "python",
   "nbconvert_exporter": "python",
   "pygments_lexer": "ipython3",
   "version": "3.9.7"
  }
 },
 "nbformat": 4,
 "nbformat_minor": 5
}
